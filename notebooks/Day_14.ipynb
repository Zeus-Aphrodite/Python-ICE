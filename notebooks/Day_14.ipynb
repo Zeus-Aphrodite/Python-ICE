{
 "cells": [
  {
   "cell_type": "markdown",
   "metadata": {},
   "source": [
    "# Question 51\n",
    "\n",
    "### **Question**\n",
    "\n",
    "> ***Write a function to compute 5/0 and use try/except to catch the exceptions.***\n",
    "\n",
    "----------------------\n",
    "### Hints \n",
    "> ***Use try/except to catch exceptions.***\n",
    "\n",
    "----------------------\n",
    "\n",
    "**Main author's Solution: Python 2**"
   ]
  },
  {
   "cell_type": "code",
   "execution_count": null,
   "metadata": {},
   "outputs": [],
   "source": [
    "def throws():\n",
    "    return 5/0\n",
    "\n",
    "try:\n",
    "    throws()\n",
    "except ZeroDivisionError:\n",
    "    print \"division by zero!\"\n",
    "except Exception, err:\n",
    "    print 'Caught an exception'\n",
    "finally:\n",
    "    print 'In finally block for cleanup'"
   ]
  },
  {
   "cell_type": "markdown",
   "metadata": {},
   "source": [
    "----------------\n",
    "**My Solution: Python 3**"
   ]
  },
  {
   "cell_type": "code",
   "execution_count": null,
   "metadata": {},
   "outputs": [],
   "source": [
    "def divide():\n",
    "    return 5/0\n",
    "\n",
    "try:\n",
    "    divide()\n",
    "except ZeroDivisionError as ze:\n",
    "    print(\"Why on earth you are dividing a number by ZERO!!\")\n",
    "except:\n",
    "    print(\"Any other exception\")\n"
   ]
  },
  {
   "cell_type": "markdown",
   "metadata": {},
   "source": [
    "---------------------\n",
    "\n",
    "\n",
    "# Question 52\n",
    "\n",
    "### **Question**\n",
    "\n",
    "> ***Define a custom exception class which takes a string message as attribute.***\n",
    "\n",
    "----------------------\n",
    "### Hints \n",
    "> ***To define a custom exception, we need to define a class inherited from Exception.***\n",
    "\n",
    "----------------------\n",
    "\n",
    "**Main author's Solution: Python 2**"
   ]
  },
  {
   "cell_type": "code",
   "execution_count": null,
   "metadata": {},
   "outputs": [],
   "source": [
    "class MyError(Exception):\n",
    "    \"\"\"My own exception class\n",
    "\n",
    "    Attributes:\n",
    "        msg  -- explanation of the error\n",
    "    \"\"\"\n",
    "\n",
    "    def __init__(self, msg):\n",
    "        self.msg = msg\n",
    "\n",
    "error = MyError(\"something wrong\")\n"
   ]
  },
  {
   "cell_type": "markdown",
   "metadata": {},
   "source": [
    "----------------\n",
    "**My Solution: Python 3**"
   ]
  },
  {
   "cell_type": "code",
   "execution_count": null,
   "metadata": {},
   "outputs": [],
   "source": [
    "\n",
    "class CustomException(Exception):\n",
    "    \"\"\"Exception raised for custom purpose\n",
    "\n",
    "    Attributes:\n",
    "        message -- explanation of the error\n",
    "    \"\"\"\n",
    "\n",
    "    def __init__(self, message):\n",
    "        self.message = message\n",
    "\n",
    "\n",
    "num = int(input())\n",
    "\n",
    "try:\n",
    "    if num < 10:\n",
    "        raise CustomException(\"Input is less than 10\")\n",
    "    elif num > 10:\n",
    "        raise CustomException(\"Input is grater than 10\")\n",
    "except CustomException as ce:\n",
    "    print(\"The error raised: \" + ce.message)\n"
   ]
  },
  {
   "cell_type": "markdown",
   "metadata": {},
   "source": [
    "---------------------\n",
    "\n",
    "\n",
    "# Question 53\n",
    "\n",
    "### **Question**\n",
    "\n",
    "> ***Assuming that we have some email addresses in the \"username@companyname.com\" format, please write program to print the user name of a given email address. Both user names and company names are composed of letters only.***\n",
    "\n",
    "> ***Example:\n",
    "If the following email address is given as input to the \n",
    "program:***"
   ]
  },
  {
   "cell_type": "code",
   "execution_count": null,
   "metadata": {},
   "outputs": [],
   "source": [
    "john@google.com"
   ]
  },
  {
   "cell_type": "markdown",
   "metadata": {},
   "source": [
    "> ***Then, the output of the program should be:***"
   ]
  },
  {
   "cell_type": "code",
   "execution_count": null,
   "metadata": {},
   "outputs": [],
   "source": [
    "john"
   ]
  },
  {
   "cell_type": "markdown",
   "metadata": {},
   "source": [
    "> ***In case of input data being supplied to the question, it should be assumed to be a console input.***\n",
    "\n",
    "----------------------\n",
    "### Hints \n",
    "> ***Use \\w to match letters.***\n",
    "\n",
    "----------------------\n",
    "\n",
    "**Main author's Solution: Python 2**"
   ]
  },
  {
   "cell_type": "code",
   "execution_count": null,
   "metadata": {},
   "outputs": [],
   "source": [
    "import re\n",
    "emailAddress = raw_input()\n",
    "pat2 = \"(\\w+)@((\\w+\\.)+(com))\"\n",
    "r2 = re.match(pat2,emailAddress)\n",
    "print r2.group(1)"
   ]
  },
  {
   "cell_type": "markdown",
   "metadata": {},
   "source": [
    "----------------\n",
    "**My Solution: Python 3**"
   ]
  },
  {
   "cell_type": "code",
   "execution_count": null,
   "metadata": {},
   "outputs": [],
   "source": [
    "email = \"john@google.com\"\n",
    "email = email.split('@')\n",
    "print(email[0])"
   ]
  },
  {
   "cell_type": "markdown",
   "metadata": {},
   "source": [
    "---------------------\n",
    "**OR**"
   ]
  },
  {
   "cell_type": "code",
   "execution_count": null,
   "metadata": {},
   "outputs": [],
   "source": [
    "import re\n",
    "\n",
    "email = \"john@google.com elise@python.com\"\n",
    "pattern = \"(\\w+)@\\w+.com\"\n",
    "ans = re.findall(pattern,email)\n",
    "print(ans)"
   ]
  },
  {
   "cell_type": "markdown",
   "metadata": {},
   "source": [
    "[***go to previous day***](https://github.com/darkprinx/100-plus-Python-programming-exercises-extended/blob/master/Status/Day_13.md \"Day 13\")\n",
    "\n",
    "[***go to next day***](https://github.com/darkprinx/100-plus-Python-programming-exercises-extended/blob/master/Status/Day_15.md \"Day 15\")\n",
    "\n",
    "[***Discussion***](https://github.com/darkprinx/100-plus-Python-programming-exercises-extended/issues/3)"
   ]
  }
 ],
 "metadata": {},
 "nbformat": 4,
 "nbformat_minor": 4
}
