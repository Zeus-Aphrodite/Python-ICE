{
 "cells": [
  {
   "cell_type": "markdown",
   "metadata": {},
   "source": [
    "# Question 18\n",
    "\n",
    "### **Question:**\n",
    "\n",
    "> **_A website requires the users to input username and password to register. Write a program to check the validity of password input by users._**\n",
    "\n",
    "> **_Following are the criteria for checking the password:_**\n",
    "\n",
    "- **_At least 1 letter between [a-z]_**\n",
    "- **_At least 1 number between [0-9]_**\n",
    "- **_At least 1 letter between [A-Z]_**\n",
    "- **_At least 1 character from [$#@]_**\n",
    "- **_Minimum length of transaction password: 6_**\n",
    "- **_Maximum length of transaction password: 12_**\n",
    "\n",
    "> **_Your program should accept a sequence of comma separated passwords and will check them according to the above criteria. Passwords that match the criteria are to be printed, each separated by a comma._**\n",
    "\n",
    "> **_Example_**\n",
    "\n",
    "> **_If the following passwords are given as input to the program:_**"
   ]
  },
  {
   "cell_type": "code",
   "execution_count": null,
   "metadata": {},
   "outputs": [],
   "source": [
    "ABd1234@1,a F1#,2w3E*,2We3345"
   ]
  },
  {
   "cell_type": "markdown",
   "metadata": {},
   "source": [
    "> **_Then, the output of the program should be:_**"
   ]
  },
  {
   "cell_type": "code",
   "execution_count": null,
   "metadata": {},
   "outputs": [],
   "source": [
    "ABd1234@1"
   ]
  },
  {
   "cell_type": "markdown",
   "metadata": {},
   "source": [
    "---\n",
    "\n",
    "### Hints:\n",
    "\n",
    "> **_In case of input data being supplied to the question, it should be assumed to be a console input._**\n",
    "\n",
    "---\n",
    "\n",
    "**Main author's Solution: Python 2**"
   ]
  },
  {
   "cell_type": "code",
   "execution_count": null,
   "metadata": {},
   "outputs": [],
   "source": [
    "import re\n",
    "value = []\n",
    "items = [x for x in raw_input().split(',')]\n",
    "for p in items:\n",
    "    if len(p) < 6 or len(p) > 12:\n",
    "        continue\n",
    "    else:\n",
    "        pass\n",
    "    if not re.search(\"[a-z]\",p):\n",
    "        continue\n",
    "    elif not re.search(\"[0-9]\",p):\n",
    "        continue\n",
    "    elif not re.search(\"[A-Z]\",p):\n",
    "        continue\n",
    "    elif not re.search(\"[$#@]\",p):\n",
    "        continue\n",
    "    elif re.search(\"\\s\",p):\n",
    "        continue\n",
    "    else:\n",
    "        pass\n",
    "    value.append(p)\n",
    "print \",\".join(value)"
   ]
  },
  {
   "cell_type": "markdown",
   "metadata": {},
   "source": [
    "---\n",
    "\n",
    "**My Solution: Python 3**"
   ]
  },
  {
   "cell_type": "code",
   "execution_count": null,
   "metadata": {},
   "outputs": [],
   "source": [
    "def is_low(x):                  # Returns True  if the string has a lowercase\n",
    "    for i in x:\n",
    "        if 'a'<=i and i<='z':\n",
    "            return True\n",
    "    return  False\n",
    "\n",
    "def is_up(x):                   # Returns True  if the string has a uppercase\n",
    "    for i in x:\n",
    "        if 'A'<= i and i<='Z':\n",
    "            return True\n",
    "    return  False\n",
    "\n",
    "def is_num(x):                  # Returns True  if the string has a numeric digit\n",
    "    for i in x:\n",
    "        if '0'<=i and i<='9':\n",
    "            return True\n",
    "    return  False\n",
    "\n",
    "def is_other(x):                # Returns True if the string has any \"$#@\"\n",
    "    for i in x:\n",
    "        if i=='$' or i=='#' or i=='@':\n",
    "            return True\n",
    "    return False\n",
    "\n",
    "s = input().split(',')\n",
    "lst = []\n",
    "\n",
    "for i in s:\n",
    "    length = len(i)\n",
    "    if 6 <= length and length <= 12 and is_low(i) and is_up(i) and is_num(i) and is_other(i):   #Checks if all the requirments are fulfilled\n",
    "        lst.append(i)\n",
    "\n",
    "print(\",\".join(lst))"
   ]
  },
  {
   "cell_type": "markdown",
   "metadata": {},
   "source": [
    "**OR**"
   ]
  },
  {
   "cell_type": "code",
   "execution_count": null,
   "metadata": {},
   "outputs": [],
   "source": [
    "def check(x):\n",
    "    cnt = (6<=len(x) and len(x)<=12)\n",
    "    for i in x:\n",
    "        if i.isupper():\n",
    "            cnt+=1\n",
    "            break\n",
    "    for i in x:\n",
    "        if i.islower():\n",
    "            cnt+=1\n",
    "            break\n",
    "    for i in x:\n",
    "        if i.isnumeric():\n",
    "            cnt+=1\n",
    "            break\n",
    "    for i in x:\n",
    "        if i=='@' or i=='#'or i=='$':\n",
    "            cnt+=1\n",
    "            break\n",
    "    return cnt == 5               # counting if total 5 all conditions are fulfilled then returns True\n",
    "\n",
    "s = input().split(',')\n",
    "lst = filter(check,s)             # Filter function pick the words from s, those returns True by check() function\n",
    "print(\",\".join(lst))"
   ]
  },
  {
   "cell_type": "markdown",
   "metadata": {},
   "source": [
    "**OR**"
   ]
  },
  {
   "cell_type": "code",
   "execution_count": null,
   "metadata": {},
   "outputs": [],
   "source": [
    "import  re\n",
    "\n",
    "s = input().split(',')\n",
    "lst = []\n",
    "\n",
    "for i in s:\n",
    "    cnt = 0\n",
    "    cnt+=(6<=len(i) and len(i)<=12)\n",
    "    cnt+=bool(re.search(\"[a-z]\",i))      # here re module includes a function re.search() which returns the object information\n",
    "    cnt+=bool(re.search(\"[A-Z]\",i))      # of where the pattern string i is matched with any of the [a-z]/[A-z]/[0=9]/[@#$] characters\n",
    "    cnt+=bool(re.search(\"[0-9]\",i))      # if not a single match found then returns NONE which converts to False in boolean\n",
    "    cnt+=bool(re.search(\"[@#$]\",i))      # expression otherwise True if found any.\n",
    "    if cnt == 5:\n",
    "        lst.append(i)\n",
    "\n",
    "print(\",\".join(lst))"
   ]
  },
  {
   "cell_type": "markdown",
   "metadata": {},
   "source": [
    "---\n",
    "\n",
    "# Question 19\n",
    "\n",
    "### **Question:**\n",
    "\n",
    "> **_You are required to write a program to sort the (name, age, score) tuples by ascending order where name is string, age and score are numbers. The tuples are input by console. The sort criteria is:_**\n",
    "\n",
    "- **_1: Sort based on name_**\n",
    "- **_2: Then sort based on age_**\n",
    "- **_3: Then sort by score_**\n",
    "\n",
    "> **_The priority is that name > age > score._**\n",
    "\n",
    "> **_If the following tuples are given as input to the program:_**"
   ]
  },
  {
   "cell_type": "code",
   "execution_count": null,
   "metadata": {},
   "outputs": [],
   "source": [
    "Tom,19,80\n",
    "John,20,90\n",
    "Jony,17,91\n",
    "Jony,17,93\n",
    "Json,21,85"
   ]
  },
  {
   "cell_type": "markdown",
   "metadata": {},
   "source": [
    "> **_Then, the output of the program should be:_**"
   ]
  },
  {
   "cell_type": "code",
   "execution_count": null,
   "metadata": {},
   "outputs": [],
   "source": [
    "[('John', '20', '90'), ('Jony', '17', '91'), ('Jony', '17', '93'), ('Json', '21', '85'), ('Tom', '19', '80')]"
   ]
  },
  {
   "cell_type": "markdown",
   "metadata": {},
   "source": [
    "---\n",
    "\n",
    "### Hints:\n",
    "\n",
    "> **_In case of input data being supplied to the question, it should be assumed to be a console input.We use itemgetter to enable multiple sort keys._**\n",
    "\n",
    "---\n",
    "\n",
    "**Main author's Solution: Python 2**"
   ]
  },
  {
   "cell_type": "code",
   "execution_count": null,
   "metadata": {},
   "outputs": [],
   "source": [
    "from operator import itemgetter, attrgetter\n",
    "\n",
    "l = []\n",
    "while True:\n",
    "    s = raw_input()\n",
    "    if not s:\n",
    "        break\n",
    "    l.append(tuple(s.split(\",\")))\n",
    "\n",
    "print sorted(l, key=itemgetter(0,1,2))"
   ]
  },
  {
   "cell_type": "markdown",
   "metadata": {},
   "source": [
    "---\n",
    "\n",
    "**My Solution: Python 3**"
   ]
  },
  {
   "cell_type": "code",
   "execution_count": null,
   "metadata": {},
   "outputs": [],
   "source": [
    "lst = []\n",
    "while True:\n",
    "    s = input().split(',')\n",
    "    if not s[0]:                          # breaks for blank input\n",
    "        break\n",
    "    lst.append(tuple(s))\n",
    "\n",
    "lst.sort(key= lambda x:(x[0],x[1],x[2]))  # here key is defined by lambda and the data is sorted by element priority 0>1>2 in accending order\n",
    "print(lst)"
   ]
  },
  {
   "cell_type": "markdown",
   "metadata": {},
   "source": [
    "---\n",
    "\n",
    "## Conclusion\n",
    "\n",
    "**_Before the above problems, I didn't even know about re(regular expression) module and its use. I didn't even know how to sort by multiple keys. To solve those problems in different ways I had to explore and learn those syntax.There are a lots of interesting stuffs in re module though I faced quite a bit hardship to understand many of them._**\n",
    "\n",
    "[**_go to previous day_**](https://github.com/darkprinx/100-plus-Python-programming-exercises-extended/blob/master/Status/Day%205.md \"Day 5\")\n",
    "\n",
    "[**_go to next day_**](https://github.com/darkprinx/100-plus-Python-programming-exercises-extended/blob/master/Status/Day%207.md \"Day 7\")\n",
    "\n",
    "[**_Discussion_**](https://github.com/darkprinx/100-plus-Python-programming-exercises-extended/issues/3)"
   ]
  }
 ],
 "metadata": {},
 "nbformat": 4,
 "nbformat_minor": 4
}
