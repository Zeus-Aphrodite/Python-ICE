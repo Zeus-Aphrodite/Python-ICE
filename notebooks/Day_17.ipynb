{
 "cells": [
  {
   "cell_type": "markdown",
   "metadata": {},
   "source": [
    "# Question 65\n",
    "\n",
    "### **Question**\n",
    "\n",
    "> **_Please write assert statements to verify that every number in the list [2,4,6,8] is even._**\n",
    "\n",
    "---\n",
    "\n",
    "### Hints\n",
    "\n",
    "> **_Use \"assert expression\" to make assertion._**\n",
    "\n",
    "---\n",
    "\n",
    "**Main author's Solution: Python 2**"
   ]
  },
  {
   "cell_type": "code",
   "execution_count": null,
   "metadata": {},
   "outputs": [],
   "source": [
    "li = [2,4,6,8]\n",
    "for i in li:\n",
    "    assert i%2==0"
   ]
  },
  {
   "cell_type": "markdown",
   "metadata": {},
   "source": [
    "---\n",
    "\n",
    "**My Solution: Python 3**"
   ]
  },
  {
   "cell_type": "code",
   "execution_count": null,
   "metadata": {},
   "outputs": [],
   "source": [
    "data = [2,4,5,6]\n",
    "for i in data:\n",
    "    assert i%2 == 0, \"{} is not an even number\".format(i)"
   ]
  },
  {
   "cell_type": "markdown",
   "metadata": {},
   "source": [
    "---\n",
    "\n",
    "# Question 66\n",
    "\n",
    "### **Question**\n",
    "\n",
    "> **_Please write a program which accepts basic mathematic expression from console and print the evaluation result._**\n",
    "\n",
    "> **_Example:\n",
    "> If the following n is given as input to the program:_**"
   ]
  },
  {
   "cell_type": "code",
   "execution_count": null,
   "metadata": {},
   "outputs": [],
   "source": [
    "35 + 3"
   ]
  },
  {
   "cell_type": "markdown",
   "metadata": {},
   "source": [
    "> **_Then, the output of the program should be:_**"
   ]
  },
  {
   "cell_type": "code",
   "execution_count": null,
   "metadata": {},
   "outputs": [],
   "source": [
    "38"
   ]
  },
  {
   "cell_type": "markdown",
   "metadata": {},
   "source": [
    "---\n",
    "\n",
    "### Hints\n",
    "\n",
    "> **_Use eval() to evaluate an expression._**\n",
    "\n",
    "---\n",
    "\n",
    "**Main author's Solution: Python 2**"
   ]
  },
  {
   "cell_type": "code",
   "execution_count": null,
   "metadata": {},
   "outputs": [],
   "source": [
    "expression = raw_input()\n",
    "print eval(expression)"
   ]
  },
  {
   "cell_type": "markdown",
   "metadata": {},
   "source": [
    "---\n",
    "\n",
    "**My Solution: Python 3**"
   ]
  },
  {
   "cell_type": "code",
   "execution_count": null,
   "metadata": {},
   "outputs": [],
   "source": [
    "expression = input()\n",
    "ans = eval(expression)\n",
    "print(ans)"
   ]
  },
  {
   "cell_type": "markdown",
   "metadata": {},
   "source": [
    "---\n",
    "\n",
    "# Question 67\n",
    "\n",
    "### **Question**\n",
    "\n",
    "> **_Please write a binary search function which searches an item in a sorted list. The function should return the index of element to be searched in the list._**\n",
    "\n",
    "---\n",
    "\n",
    "### Hints\n",
    "\n",
    "> **_Use if/elif to deal with conditions._**\n",
    "\n",
    "---\n",
    "\n",
    "**Main author's Solution: Python 2**"
   ]
  },
  {
   "cell_type": "code",
   "execution_count": null,
   "metadata": {},
   "outputs": [],
   "source": [
    "import math\n",
    "def bin_search(li, element):\n",
    "    bottom = 0\n",
    "    top = len(li)-1\n",
    "    index = -1\n",
    "    while top>=bottom and index==-1:\n",
    "        mid = int(math.floor((top+bottom)/2.0))\n",
    "        if li[mid]==element:\n",
    "            index = mid\n",
    "        elif li[mid]>element:\n",
    "            top = mid-1\n",
    "        else:\n",
    "            bottom = mid+1\n",
    "\n",
    "    return index\n",
    "\n",
    "li=[2,5,7,9,11,17,222]\n",
    "print bin_search(li,11)\n",
    "print bin_search(li,12)\n"
   ]
  },
  {
   "cell_type": "markdown",
   "metadata": {},
   "source": [
    "---\n",
    "\n",
    "**My Solution: Python 3**"
   ]
  },
  {
   "cell_type": "code",
   "execution_count": null,
   "metadata": {},
   "outputs": [],
   "source": [
    "#to be written\n"
   ]
  },
  {
   "cell_type": "markdown",
   "metadata": {},
   "source": [
    "---\n",
    "\n",
    "**Solution by AasaiAlangaram: Python 3**"
   ]
  },
  {
   "cell_type": "code",
   "execution_count": null,
   "metadata": {},
   "outputs": [],
   "source": [
    "def binary_search_Ascending(array, target):\n",
    "    lower = 0\n",
    "    upper = len(array)\n",
    "    print('Array Length:',upper)\n",
    "    while lower < upper:\n",
    "        x = (lower + upper) // 2\n",
    "        print('Middle Value:',x)\n",
    "        value = array[x]\n",
    "        if target == value:\n",
    "            return x\n",
    "        elif target > value:\n",
    "            lower = x\n",
    "        elif target < value:\n",
    "            upper = x\n",
    "\n",
    "Array = [1,5,8,10,12,13,55,66,73,78,82,85,88,99]\n",
    "print('The Value Found at Index:',binary_search_Ascending(Array, 82))\n"
   ]
  },
  {
   "cell_type": "markdown",
   "metadata": {},
   "source": [
    "---\n",
    "\n",
    "**Solution by yuan1z: Python 3**"
   ]
  },
  {
   "cell_type": "code",
   "execution_count": null,
   "metadata": {},
   "outputs": [],
   "source": [
    "idx = 0\n",
    "def bs(num,num_list):\n",
    "    global idx\n",
    "    if (len(num_list) == 1):\n",
    "        if num_list[0] == num:\n",
    "            return idx\n",
    "        else:\n",
    "            return \"No exit in the list\"\n",
    "    elif num in num_list[:len(num_list)//2]:\n",
    "        return bs(num,num_list[:len(num_list)//2])\n",
    "    else:\n",
    "        idx += len(num_list)//2\n",
    "    return bs(num,num_list[len(num_list)//2:])\n",
    "\n",
    "print(bs(66,[1,5,8,10,12,13,55,66,73,78,82,85,88,99,100]))\n"
   ]
  },
  {
   "cell_type": "markdown",
   "metadata": {},
   "source": [
    "---\n",
    "\n",
    "# Question 68\n",
    "\n",
    "### **Question**\n",
    "\n",
    "> **_Please generate a random float where the value is between 10 and 100 using Python module._**\n",
    "\n",
    "---\n",
    "\n",
    "### Hints\n",
    "\n",
    "> **_Use random.random() to generate a random float in [0,1]._**\n",
    "\n",
    "---\n",
    "\n",
    "**Main author's Solution: Python 2**"
   ]
  },
  {
   "cell_type": "code",
   "execution_count": null,
   "metadata": {},
   "outputs": [],
   "source": [
    "import random\n",
    "print random.random()*100"
   ]
  },
  {
   "cell_type": "markdown",
   "metadata": {},
   "source": [
    "---\n",
    "\n",
    "**My Solution: Python 3**"
   ]
  },
  {
   "cell_type": "code",
   "execution_count": null,
   "metadata": {},
   "outputs": [],
   "source": [
    "import random\n",
    "rand_num = random.uniform(10,100)\n",
    "print(rand_num)"
   ]
  },
  {
   "cell_type": "markdown",
   "metadata": {},
   "source": [
    "---\n",
    "\n",
    "# Question 69\n",
    "\n",
    "### **Question**\n",
    "\n",
    "> **_Please generate a random float where the value is between 5 and 95 using Python module._**\n",
    "\n",
    "---\n",
    "\n",
    "### Hints\n",
    "\n",
    "> **_Use random.random() to generate a random float in [0,1]._**\n",
    "\n",
    "---\n",
    "\n",
    "**Main author's Solution: Python 2**"
   ]
  },
  {
   "cell_type": "code",
   "execution_count": null,
   "metadata": {},
   "outputs": [],
   "source": [
    "import random\n",
    "print random.random()*100-5"
   ]
  },
  {
   "cell_type": "markdown",
   "metadata": {},
   "source": [
    "---\n",
    "\n",
    "**My Solution: Python 3**"
   ]
  },
  {
   "cell_type": "code",
   "execution_count": null,
   "metadata": {},
   "outputs": [],
   "source": [
    "import random\n",
    "rand_num = random.uniform(5,95)\n",
    "print(rand_num)"
   ]
  },
  {
   "cell_type": "markdown",
   "metadata": {},
   "source": [
    "---\n",
    "\n",
    "[**_go to previous day_**](https://github.com/darkprinx/100-plus-Python-programming-exercises-extended/blob/master/Status/Day_16.md \"Day 16\")\n",
    "\n",
    "[**_go to next day_**](https://github.com/darkprinx/100-plus-Python-programming-exercises-extended/blob/master/Status/Day_18.md \"Day 18\")\n",
    "\n",
    "[**_Discussion_**](https://github.com/darkprinx/100-plus-Python-programming-exercises-extended/issues/3)"
   ]
  }
 ],
 "metadata": {},
 "nbformat": 4,
 "nbformat_minor": 4
}
